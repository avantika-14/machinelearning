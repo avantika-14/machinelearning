{
  "nbformat": 4,
  "nbformat_minor": 0,
  "metadata": {
    "colab": {
      "provenance": [],
      "authorship_tag": "ABX9TyOuZR2kfkg9hYD+7Qpd8iiX",
      "include_colab_link": true
    },
    "kernelspec": {
      "name": "python3",
      "display_name": "Python 3"
    },
    "language_info": {
      "name": "python"
    }
  },
  "cells": [
    {
      "cell_type": "markdown",
      "metadata": {
        "id": "view-in-github",
        "colab_type": "text"
      },
      "source": [
        "<a href=\"https://colab.research.google.com/github/avantika-14/python-project/blob/main/ChatBot.ipynb\" target=\"_parent\"><img src=\"https://colab.research.google.com/assets/colab-badge.svg\" alt=\"Open In Colab\"/></a>"
      ]
    },
    {
      "cell_type": "markdown",
      "source": [
        "1. Loading the dataset"
      ],
      "metadata": {
        "id": "w6suof7FvjA7"
      }
    },
    {
      "cell_type": "code",
      "source": [
        "import numpy as np\n",
        "import pickle"
      ],
      "metadata": {
        "id": "0mPRqyJbwgtj"
      },
      "execution_count": 84,
      "outputs": []
    },
    {
      "cell_type": "code",
      "source": [
        " # Unpickling the dataset\n",
        "with open(\"/content/train_qa.txt\", \"rb\") as fp:  \n",
        "  train_data =  pickle.load(fp)\n",
        "with open(\"/content/test_qa.txt\", \"rb\") as fp:  \n",
        "  test_data =  pickle.load(fp)"
      ],
      "metadata": {
        "id": "uwoHd9jTvbe_"
      },
      "execution_count": 85,
      "outputs": []
    },
    {
      "cell_type": "markdown",
      "source": [
        "2. Checking the data format"
      ],
      "metadata": {
        "id": "yC_zAzMBw6PA"
      }
    },
    {
      "cell_type": "code",
      "source": [
        "type(test_data)"
      ],
      "metadata": {
        "colab": {
          "base_uri": "https://localhost:8080/",
          "height": 0
        },
        "id": "QFPF_UMHwuTk",
        "outputId": "a2f1c98b-c45f-4d30-a67b-0c0dc01bcc8b"
      },
      "execution_count": 86,
      "outputs": [
        {
          "output_type": "execute_result",
          "data": {
            "text/plain": [
              "list"
            ]
          },
          "metadata": {},
          "execution_count": 86
        }
      ]
    },
    {
      "cell_type": "code",
      "source": [
        "type(train_data)"
      ],
      "metadata": {
        "colab": {
          "base_uri": "https://localhost:8080/",
          "height": 0
        },
        "id": "F-EoGmTIxI5P",
        "outputId": "db026d04-601a-4998-c396-3f6fe5aad461"
      },
      "execution_count": 87,
      "outputs": [
        {
          "output_type": "execute_result",
          "data": {
            "text/plain": [
              "list"
            ]
          },
          "metadata": {},
          "execution_count": 87
        }
      ]
    },
    {
      "cell_type": "code",
      "source": [
        "len(test_data)"
      ],
      "metadata": {
        "colab": {
          "base_uri": "https://localhost:8080/",
          "height": 0
        },
        "id": "b7c9d69qxMzY",
        "outputId": "225b250f-68d3-4be4-fe95-27ad104d4bd8"
      },
      "execution_count": 88,
      "outputs": [
        {
          "output_type": "execute_result",
          "data": {
            "text/plain": [
              "1000"
            ]
          },
          "metadata": {},
          "execution_count": 88
        }
      ]
    },
    {
      "cell_type": "code",
      "source": [
        "len(train_data)"
      ],
      "metadata": {
        "colab": {
          "base_uri": "https://localhost:8080/",
          "height": 0
        },
        "id": "bZIgsbMoxUvt",
        "outputId": "157687a9-2750-43c9-e386-5ee9b1eb3c70"
      },
      "execution_count": 89,
      "outputs": [
        {
          "output_type": "execute_result",
          "data": {
            "text/plain": [
              "10000"
            ]
          },
          "metadata": {},
          "execution_count": 89
        }
      ]
    },
    {
      "cell_type": "code",
      "source": [
        "train_data[0]"
      ],
      "metadata": {
        "colab": {
          "base_uri": "https://localhost:8080/",
          "height": 0
        },
        "id": "tMLqHfrmxX9s",
        "outputId": "3ab666a3-372a-43de-ddb2-1b4b1ae2b494"
      },
      "execution_count": 90,
      "outputs": [
        {
          "output_type": "execute_result",
          "data": {
            "text/plain": [
              "(['Mary',\n",
              "  'moved',\n",
              "  'to',\n",
              "  'the',\n",
              "  'bathroom',\n",
              "  '.',\n",
              "  'Sandra',\n",
              "  'journeyed',\n",
              "  'to',\n",
              "  'the',\n",
              "  'bedroom',\n",
              "  '.'],\n",
              " ['Is', 'Sandra', 'in', 'the', 'hallway', '?'],\n",
              " 'no')"
            ]
          },
          "metadata": {},
          "execution_count": 90
        }
      ]
    },
    {
      "cell_type": "code",
      "source": [
        "' '.join(train_data[0][0])"
      ],
      "metadata": {
        "colab": {
          "base_uri": "https://localhost:8080/",
          "height": 36
        },
        "id": "PrFBWnUbxrmY",
        "outputId": "06b57b88-17a1-4f3a-b164-9b219f4259d3"
      },
      "execution_count": 91,
      "outputs": [
        {
          "output_type": "execute_result",
          "data": {
            "text/plain": [
              "'Mary moved to the bathroom . Sandra journeyed to the bedroom .'"
            ],
            "application/vnd.google.colaboratory.intrinsic+json": {
              "type": "string"
            }
          },
          "metadata": {},
          "execution_count": 91
        }
      ]
    },
    {
      "cell_type": "code",
      "source": [
        "' '.join(train_data[0][1])"
      ],
      "metadata": {
        "colab": {
          "base_uri": "https://localhost:8080/",
          "height": 36
        },
        "id": "GLQaevFTx1fI",
        "outputId": "fe42d7c7-a9b1-4219-d5e1-5e08ff53ae76"
      },
      "execution_count": 92,
      "outputs": [
        {
          "output_type": "execute_result",
          "data": {
            "text/plain": [
              "'Is Sandra in the hallway ?'"
            ],
            "application/vnd.google.colaboratory.intrinsic+json": {
              "type": "string"
            }
          },
          "metadata": {},
          "execution_count": 92
        }
      ]
    },
    {
      "cell_type": "code",
      "source": [
        "train_data[0][2]"
      ],
      "metadata": {
        "colab": {
          "base_uri": "https://localhost:8080/",
          "height": 36
        },
        "id": "qobDI42Jx3O_",
        "outputId": "3951befd-9eac-4e85-8935-f790500d529d"
      },
      "execution_count": 93,
      "outputs": [
        {
          "output_type": "execute_result",
          "data": {
            "text/plain": [
              "'no'"
            ],
            "application/vnd.google.colaboratory.intrinsic+json": {
              "type": "string"
            }
          },
          "metadata": {},
          "execution_count": 93
        }
      ]
    },
    {
      "cell_type": "markdown",
      "source": [
        "3. Setting Vocabulary"
      ],
      "metadata": {
        "id": "74yz3UTCyAzH"
      }
    },
    {
      "cell_type": "code",
      "source": [
        "# Create a set that holds the vocab words\n",
        "vocab = set()\n",
        "all_data=test_data+train_data\n",
        "for story, question , answer in all_data:\n",
        "  # Union of sets\n",
        "  vocab = vocab.union(set(story))\n",
        "  vocab = vocab.union(set(question))\n"
      ],
      "metadata": {
        "id": "nR0bWxP-x8q3"
      },
      "execution_count": 94,
      "outputs": []
    },
    {
      "cell_type": "code",
      "source": [
        "vocab.add('no')\n",
        "vocab.add('yes')"
      ],
      "metadata": {
        "id": "224Ky1vQy90d"
      },
      "execution_count": 95,
      "outputs": []
    },
    {
      "cell_type": "code",
      "source": [
        "vocab"
      ],
      "metadata": {
        "colab": {
          "base_uri": "https://localhost:8080/",
          "height": 0
        },
        "id": "aVKOinKxzFUN",
        "outputId": "d795675a-f67b-4a10-9c72-aa4572bfd930"
      },
      "execution_count": 96,
      "outputs": [
        {
          "output_type": "execute_result",
          "data": {
            "text/plain": [
              "{'.',\n",
              " '?',\n",
              " 'Daniel',\n",
              " 'Is',\n",
              " 'John',\n",
              " 'Mary',\n",
              " 'Sandra',\n",
              " 'apple',\n",
              " 'back',\n",
              " 'bathroom',\n",
              " 'bedroom',\n",
              " 'discarded',\n",
              " 'down',\n",
              " 'dropped',\n",
              " 'football',\n",
              " 'garden',\n",
              " 'got',\n",
              " 'grabbed',\n",
              " 'hallway',\n",
              " 'in',\n",
              " 'journeyed',\n",
              " 'kitchen',\n",
              " 'left',\n",
              " 'milk',\n",
              " 'moved',\n",
              " 'no',\n",
              " 'office',\n",
              " 'picked',\n",
              " 'put',\n",
              " 'the',\n",
              " 'there',\n",
              " 'to',\n",
              " 'took',\n",
              " 'travelled',\n",
              " 'up',\n",
              " 'went',\n",
              " 'yes'}"
            ]
          },
          "metadata": {},
          "execution_count": 96
        }
      ]
    },
    {
      "cell_type": "code",
      "source": [
        "vocab_len = len(vocab) + 1 #extra space to hold a 0"
      ],
      "metadata": {
        "id": "IdxD_bWvzKlD"
      },
      "execution_count": 97,
      "outputs": []
    },
    {
      "cell_type": "code",
      "source": [
        "max_story_len = max([len(data[0]) for data in all_data])\n",
        "max_story_len"
      ],
      "metadata": {
        "colab": {
          "base_uri": "https://localhost:8080/",
          "height": 0
        },
        "id": "BC1GBhryzhKC",
        "outputId": "4e439897-524e-46a1-ce97-2fd1cd0af12c"
      },
      "execution_count": 98,
      "outputs": [
        {
          "output_type": "execute_result",
          "data": {
            "text/plain": [
              "156"
            ]
          },
          "metadata": {},
          "execution_count": 98
        }
      ]
    },
    {
      "cell_type": "code",
      "source": [
        "max_question_len = max([len(data[1]) for data in all_data])\n",
        "max_question_len"
      ],
      "metadata": {
        "colab": {
          "base_uri": "https://localhost:8080/",
          "height": 0
        },
        "id": "1zVLzLLwzrIV",
        "outputId": "a4b26ceb-7cb0-4c12-8d06-c1b4c130fb2e"
      },
      "execution_count": 99,
      "outputs": [
        {
          "output_type": "execute_result",
          "data": {
            "text/plain": [
              "6"
            ]
          },
          "metadata": {},
          "execution_count": 99
        }
      ]
    },
    {
      "cell_type": "markdown",
      "source": [
        "4. Data Vectorisation"
      ],
      "metadata": {
        "id": "etrXl-KLz66l"
      }
    },
    {
      "cell_type": "code",
      "source": [
        "vocab_size = len(vocab) + 1 #reserving 0 for pad_sequences"
      ],
      "metadata": {
        "id": "SxJEiuOR0Nrt"
      },
      "execution_count": 100,
      "outputs": []
    },
    {
      "cell_type": "code",
      "source": [
        "!pip install -q keras"
      ],
      "metadata": {
        "id": "zUt8nAcS1GgU"
      },
      "execution_count": 101,
      "outputs": []
    },
    {
      "cell_type": "code",
      "source": [
        "import pkg_resources\n",
        "from subprocess import call\n",
        "packages=[dist.project_name for dist in pkg_resources.working_set]\n",
        "call(\"pip install --upgrade \" + ' '.join(packages), shell=True)"
      ],
      "metadata": {
        "colab": {
          "base_uri": "https://localhost:8080/"
        },
        "id": "5hkAmLEh0ZT7",
        "outputId": "7db5e67f-4efb-4c43-fd7d-dd50537eb27d"
      },
      "execution_count": null,
      "outputs": [
        {
          "output_type": "execute_result",
          "data": {
            "text/plain": [
              "1"
            ]
          },
          "metadata": {},
          "execution_count": 34
        }
      ]
    },
    {
      "cell_type": "code",
      "source": [
        "from tensorflow import keras\n",
        "from keras.utils import pad_sequences\n",
        "from keras.preprocessing.text import Tokenizer"
      ],
      "metadata": {
        "id": "_J3O_oAo1a7J"
      },
      "execution_count": 102,
      "outputs": []
    },
    {
      "cell_type": "code",
      "source": [
        "tokenizer = Tokenizer(filters=[])\n",
        "tokenizer.fit_on_texts(vocab)\n",
        "tokenizer.word_index"
      ],
      "metadata": {
        "colab": {
          "base_uri": "https://localhost:8080/",
          "height": 0
        },
        "id": "YlsC-eMM54oZ",
        "outputId": "40a22aab-ee15-4e66-a319-f2f313d62510"
      },
      "execution_count": 103,
      "outputs": [
        {
          "output_type": "execute_result",
          "data": {
            "text/plain": [
              "{'there': 1,\n",
              " 'journeyed': 2,\n",
              " 'hallway': 3,\n",
              " 'the': 4,\n",
              " 'john': 5,\n",
              " 'back': 6,\n",
              " 'no': 7,\n",
              " 'football': 8,\n",
              " '.': 9,\n",
              " 'kitchen': 10,\n",
              " 'bedroom': 11,\n",
              " 'mary': 12,\n",
              " 'picked': 13,\n",
              " '?': 14,\n",
              " 'in': 15,\n",
              " 'to': 16,\n",
              " 'garden': 17,\n",
              " 'up': 18,\n",
              " 'put': 19,\n",
              " 'dropped': 20,\n",
              " 'is': 21,\n",
              " 'left': 22,\n",
              " 'travelled': 23,\n",
              " 'took': 24,\n",
              " 'down': 25,\n",
              " 'went': 26,\n",
              " 'got': 27,\n",
              " 'sandra': 28,\n",
              " 'yes': 29,\n",
              " 'daniel': 30,\n",
              " 'discarded': 31,\n",
              " 'grabbed': 32,\n",
              " 'office': 33,\n",
              " 'bathroom': 34,\n",
              " 'moved': 35,\n",
              " 'milk': 36,\n",
              " 'apple': 37}"
            ]
          },
          "metadata": {},
          "execution_count": 103
        }
      ]
    },
    {
      "cell_type": "code",
      "source": [
        "train_story_text = []\n",
        "train_question_text = []\n",
        "train_answers = []\n",
        "\n",
        "for story,question,answer in train_data:\n",
        "  train_story_text.append(story)\n",
        "  train_question_text.append(question)\n",
        "\n",
        "train_story_seq = tokenizer.texts_to_sequences(train_story_text)"
      ],
      "metadata": {
        "id": "gvCnNrk46DYh"
      },
      "execution_count": 104,
      "outputs": []
    },
    {
      "cell_type": "code",
      "source": [
        "len(train_story_text)"
      ],
      "metadata": {
        "colab": {
          "base_uri": "https://localhost:8080/",
          "height": 0
        },
        "id": "u8AiWPb66bi4",
        "outputId": "0063d57a-02b1-4e80-aa8b-059b78a549a7"
      },
      "execution_count": 105,
      "outputs": [
        {
          "output_type": "execute_result",
          "data": {
            "text/plain": [
              "10000"
            ]
          },
          "metadata": {},
          "execution_count": 105
        }
      ]
    },
    {
      "cell_type": "code",
      "source": [
        "len(train_story_seq)"
      ],
      "metadata": {
        "colab": {
          "base_uri": "https://localhost:8080/",
          "height": 0
        },
        "id": "f4NbX5ou6X_d",
        "outputId": "6c7c9df0-4e91-4631-b561-c56481ee975e"
      },
      "execution_count": 106,
      "outputs": [
        {
          "output_type": "execute_result",
          "data": {
            "text/plain": [
              "10000"
            ]
          },
          "metadata": {},
          "execution_count": 106
        }
      ]
    },
    {
      "cell_type": "markdown",
      "source": [
        "5. Functionalize Vectorization"
      ],
      "metadata": {
        "id": "4a0jDMRP6jGo"
      }
    },
    {
      "cell_type": "code",
      "source": [
        "def vectorize_stories(data, word_index=tokenizer.word_index, max_story_len=max_story_len,max_question_len=max_question_len):\n",
        "    '''\n",
        "    INPUT: \n",
        "    data: consisting of Stories,Queries,and Answers\n",
        "    word_index: word index dictionary from tokenizer\n",
        "    max_story_len: the length of the longest story (used for pad_sequences function)\n",
        "    max_question_len: length of the longest question (used for pad_sequences function)\n",
        "    OUTPUT:\n",
        "    Vectorizes the stories,questions, and answers into padded sequences. We first loop for every story, query , and\n",
        "    answer in the data. Then we convert the raw words to an word index value. Then we append each set to their appropriate\n",
        "    output list. Then once we have converted the words to numbers, we pad the sequences so they are all of equal length.\n",
        "    Returns this in the form of a tuple (X,Xq,Y) (padded based on max lengths)\n",
        "    '''\n",
        "    # X = STORIES\n",
        "    X = []\n",
        "    # Xq = QUERY/QUESTION\n",
        "    Xq = []\n",
        "    # Y = CORRECT ANSWER\n",
        "    Y = []\n",
        "    for story, query, answer in data:\n",
        "        # Grab the word index for every word in story\n",
        "        x = [word_index[word.lower()] for word in story]\n",
        "        # Grab the word index for every word in query\n",
        "        xq = [word_index[word.lower()] for word in query]\n",
        "        # Grab the Answers (either Yes/No so we don't need to use list comprehension here)\n",
        "        # Index 0 is reserved so we're going to use + 1\n",
        "        y = np.zeros(len(word_index) + 1)\n",
        "        # Now that y is all zeros and we know its just Yes/No, we can use numpy logic to create this assignment\n",
        "        #\n",
        "        y[word_index[answer]] = 1\n",
        "        # Append each set of story,query, and answer to their respective holding lists\n",
        "        X.append(x)\n",
        "        Xq.append(xq)\n",
        "        Y.append(y) # Finally, pad the sequences based on their max length so the RNN can be trained on uniformly long sequences.\n",
        "    # RETURN TUPLE FOR UNPACKING\n",
        "    return (pad_sequences(X, maxlen=max_story_len),pad_sequences(Xq, maxlen=max_question_len), np.array(Y))"
      ],
      "metadata": {
        "id": "Rg0HV5Xm6stp"
      },
      "execution_count": 107,
      "outputs": []
    },
    {
      "cell_type": "code",
      "source": [
        "inputs_train, queries_train, answers_train = vectorize_stories(train_data)\n",
        "inputs_test, queries_test, answers_test = vectorize_stories(test_data)"
      ],
      "metadata": {
        "id": "mwRo5YE-729l"
      },
      "execution_count": 108,
      "outputs": []
    },
    {
      "cell_type": "code",
      "source": [
        "inputs_test"
      ],
      "metadata": {
        "colab": {
          "base_uri": "https://localhost:8080/",
          "height": 0
        },
        "id": "TWOePh0p7-kP",
        "outputId": "ea1dc1e8-7540-4635-bf63-81a383d3abe3"
      },
      "execution_count": 109,
      "outputs": [
        {
          "output_type": "execute_result",
          "data": {
            "text/plain": [
              "array([[ 0,  0,  0, ...,  4, 11,  9],\n",
              "       [ 0,  0,  0, ...,  4, 17,  9],\n",
              "       [ 0,  0,  0, ...,  4, 17,  9],\n",
              "       ...,\n",
              "       [ 0,  0,  0, ...,  4, 37,  9],\n",
              "       [ 0,  0,  0, ...,  4, 17,  9],\n",
              "       [ 0,  0,  0, ..., 37,  1,  9]], dtype=int32)"
            ]
          },
          "metadata": {},
          "execution_count": 109
        }
      ]
    },
    {
      "cell_type": "code",
      "source": [
        "queries_test"
      ],
      "metadata": {
        "colab": {
          "base_uri": "https://localhost:8080/",
          "height": 0
        },
        "id": "Q57r34Ds8CHS",
        "outputId": "93c9c3d1-bdac-499c-8e6b-1cec6fe08c40"
      },
      "execution_count": 110,
      "outputs": [
        {
          "output_type": "execute_result",
          "data": {
            "text/plain": [
              "array([[21,  5, 15,  4, 10, 14],\n",
              "       [21,  5, 15,  4, 10, 14],\n",
              "       [21,  5, 15,  4, 17, 14],\n",
              "       ...,\n",
              "       [21, 12, 15,  4, 11, 14],\n",
              "       [21, 28, 15,  4, 17, 14],\n",
              "       [21, 12, 15,  4, 17, 14]], dtype=int32)"
            ]
          },
          "metadata": {},
          "execution_count": 110
        }
      ]
    },
    {
      "cell_type": "code",
      "source": [
        "answers_test"
      ],
      "metadata": {
        "colab": {
          "base_uri": "https://localhost:8080/",
          "height": 0
        },
        "id": "Gr8qIGcn8Hd1",
        "outputId": "3c303230-3c57-40c7-89e0-ad8717f5d4c4"
      },
      "execution_count": 111,
      "outputs": [
        {
          "output_type": "execute_result",
          "data": {
            "text/plain": [
              "array([[0., 0., 0., ..., 0., 0., 0.],\n",
              "       [0., 0., 0., ..., 0., 0., 0.],\n",
              "       [0., 0., 0., ..., 0., 0., 0.],\n",
              "       ...,\n",
              "       [0., 0., 0., ..., 0., 0., 0.],\n",
              "       [0., 0., 0., ..., 0., 0., 0.],\n",
              "       [0., 0., 0., ..., 0., 0., 0.]])"
            ]
          },
          "metadata": {},
          "execution_count": 111
        }
      ]
    },
    {
      "cell_type": "code",
      "source": [
        "sum(answers_test)"
      ],
      "metadata": {
        "colab": {
          "base_uri": "https://localhost:8080/",
          "height": 0
        },
        "id": "yOvkcGD18LXS",
        "outputId": "e28ea763-9234-4493-e472-aa8e0921003d"
      },
      "execution_count": 112,
      "outputs": [
        {
          "output_type": "execute_result",
          "data": {
            "text/plain": [
              "array([  0.,   0.,   0.,   0.,   0.,   0.,   0., 503.,   0.,   0.,   0.,\n",
              "         0.,   0.,   0.,   0.,   0.,   0.,   0.,   0.,   0.,   0.,   0.,\n",
              "         0.,   0.,   0.,   0.,   0.,   0.,   0., 497.,   0.,   0.,   0.,\n",
              "         0.,   0.,   0.,   0.,   0.])"
            ]
          },
          "metadata": {},
          "execution_count": 112
        }
      ]
    },
    {
      "cell_type": "code",
      "source": [
        "tokenizer.word_index['yes']"
      ],
      "metadata": {
        "colab": {
          "base_uri": "https://localhost:8080/",
          "height": 0
        },
        "id": "l-RkhrtP8a5Z",
        "outputId": "a4276125-7e41-4cd7-a276-e092ca367c36"
      },
      "execution_count": 113,
      "outputs": [
        {
          "output_type": "execute_result",
          "data": {
            "text/plain": [
              "29"
            ]
          },
          "metadata": {},
          "execution_count": 113
        }
      ]
    },
    {
      "cell_type": "code",
      "source": [
        "tokenizer.word_index['no']"
      ],
      "metadata": {
        "colab": {
          "base_uri": "https://localhost:8080/",
          "height": 0
        },
        "id": "aaSM2IBp8l_N",
        "outputId": "9581a952-0749-4423-8e32-502326266625"
      },
      "execution_count": 114,
      "outputs": [
        {
          "output_type": "execute_result",
          "data": {
            "text/plain": [
              "7"
            ]
          },
          "metadata": {},
          "execution_count": 114
        }
      ]
    },
    {
      "cell_type": "markdown",
      "source": [
        "6. Creating Model"
      ],
      "metadata": {
        "id": "mizVaeHB836b"
      }
    },
    {
      "cell_type": "code",
      "source": [
        "import tensorflow\n",
        "from keras.models import Sequential, Model\n",
        "from tensorflow.keras import layers\n",
        "from tensorflow.keras.layers import Embedding\n",
        "from keras.layers import Input, Activation, Dense, Permute, Dropout\n",
        "from keras.layers import add, dot, concatenate\n",
        "from keras.layers import LSTM"
      ],
      "metadata": {
        "id": "2wjsyE7L8utR"
      },
      "execution_count": 115,
      "outputs": []
    },
    {
      "cell_type": "code",
      "source": [
        "#Input() is used to instantiate a Keras tensor\n",
        "input_sequence = Input((max_story_len,))\n",
        "question = Input((max_question_len,))"
      ],
      "metadata": {
        "id": "4pNy_hX6_Ilu"
      },
      "execution_count": 116,
      "outputs": []
    },
    {
      "cell_type": "markdown",
      "source": [
        "7. Encoders"
      ],
      "metadata": {
        "id": "oy-SHthIAcv2"
      }
    },
    {
      "cell_type": "markdown",
      "source": [
        "Input Encoder m"
      ],
      "metadata": {
        "id": "TZqY3ZFDAhvF"
      }
    },
    {
      "cell_type": "code",
      "source": [
        "# Input gets embedded to a sequence of vectors\n",
        "input_encoder_m = Sequential()\n",
        "input_encoder_m.add(Embedding(input_dim=vocab_size,output_dim=64))\n",
        "input_encoder_m.add(Dropout(0.3))\n",
        "\n",
        "# This encoder will output:\n",
        "# (samples, story_maxlen, embedding_dim)"
      ],
      "metadata": {
        "id": "LBLpxibJAU0-"
      },
      "execution_count": 117,
      "outputs": []
    },
    {
      "cell_type": "markdown",
      "source": [
        "Input Encoder c"
      ],
      "metadata": {
        "id": "nR0lsZerAomX"
      }
    },
    {
      "cell_type": "code",
      "source": [
        "# embed the input into a sequence of vectors of size query_maxlen\n",
        "input_encoder_c = Sequential()\n",
        "input_encoder_c.add(Embedding(input_dim=vocab_size,output_dim=max_question_len))\n",
        "input_encoder_c.add(Dropout(0.3))\n",
        "# output: (samples, story_maxlen, query_maxlen)"
      ],
      "metadata": {
        "id": "jTd_jVWLAtMu"
      },
      "execution_count": 118,
      "outputs": []
    },
    {
      "cell_type": "markdown",
      "source": [
        "Question Encoder"
      ],
      "metadata": {
        "id": "pbllCVaHA1Lb"
      }
    },
    {
      "cell_type": "code",
      "source": [
        "# embed the question into a sequence of vectors\n",
        "question_encoder = Sequential()\n",
        "question_encoder.add(Embedding(input_dim=vocab_size, output_dim=64, input_length=max_question_len))\n",
        "question_encoder.add(Dropout(0.3))\n",
        "# output: (samples, query_maxlen, embedding_dim)"
      ],
      "metadata": {
        "id": "IdVU4VL6AyLI"
      },
      "execution_count": 119,
      "outputs": []
    },
    {
      "cell_type": "markdown",
      "source": [
        "Encoding the Sequences"
      ],
      "metadata": {
        "id": "2JEhOJVzBAC5"
      }
    },
    {
      "cell_type": "code",
      "source": [
        "# encode input sequence and questions (which are indices)\n",
        "# to sequences of dense vectors\n",
        "input_encoded_m = input_encoder_m(input_sequence)\n",
        "input_encoded_c = input_encoder_c(input_sequence)\n",
        "question_encoded = question_encoder(question)\n",
        "# shape:(samples, story_maxlen, query_maxlen)\n",
        "match = dot([input_encoded_m, question_encoded], axes=(2, 2))\n",
        "match = Activation('softmax')(match)\n",
        "# add this match matrix with the second input vector sequence\n",
        "# add the match matrix with the second input vector sequence\n",
        "response = add([match, input_encoded_c])  # (samples, story_maxlen, query_maxlen)\n",
        "response = Permute((2, 1))(response)  # (samples, query_maxlen, story_maxlen)\n",
        "# concatenate the match matrix with the question vector sequence\n",
        "answer = concatenate([response, question_encoded])"
      ],
      "metadata": {
        "id": "K3dK-sRPBuhE"
      },
      "execution_count": 120,
      "outputs": []
    },
    {
      "cell_type": "code",
      "source": [
        "answer"
      ],
      "metadata": {
        "colab": {
          "base_uri": "https://localhost:8080/",
          "height": 0
        },
        "id": "QiUKdf7QBwPm",
        "outputId": "76028a59-c4e0-4ba8-866b-003c6b6f68b8"
      },
      "execution_count": 121,
      "outputs": [
        {
          "output_type": "execute_result",
          "data": {
            "text/plain": [
              "<KerasTensor: shape=(None, 6, 220) dtype=float32 (created by layer 'concatenate_1')>"
            ]
          },
          "metadata": {},
          "execution_count": 121
        }
      ]
    },
    {
      "cell_type": "code",
      "source": [
        "# Reduce with RNN (LSTM)\n",
        "answer = LSTM(32)(answer)  # (samples, 32)\n",
        "# Regularization with Dropout\n",
        "answer = Dropout(0.5)(answer)\n",
        "answer = Dense(vocab_size)(answer)  # (samples, vocab_size)\n",
        "# we output a probability distribution over the vocabulary\n",
        "answer = Activation('softmax')(answer)\n",
        "# build the final model\n",
        "model = Model([input_sequence, question], answer)\n",
        "model.compile(optimizer='rmsprop', loss='categorical_crossentropy', metrics=['accuracy'])"
      ],
      "metadata": {
        "id": "4j9-AyxbCVOJ"
      },
      "execution_count": 122,
      "outputs": []
    },
    {
      "cell_type": "code",
      "source": [
        "model.summary()"
      ],
      "metadata": {
        "colab": {
          "base_uri": "https://localhost:8080/",
          "height": 0
        },
        "id": "X0ilB2rXDrEH",
        "outputId": "ac5fc66c-345e-42b7-aa25-5549ea917047"
      },
      "execution_count": 123,
      "outputs": [
        {
          "output_type": "stream",
          "name": "stdout",
          "text": [
            "Model: \"model_1\"\n",
            "__________________________________________________________________________________________________\n",
            " Layer (type)                   Output Shape         Param #     Connected to                     \n",
            "==================================================================================================\n",
            " input_3 (InputLayer)           [(None, 156)]        0           []                               \n",
            "                                                                                                  \n",
            " input_4 (InputLayer)           [(None, 6)]          0           []                               \n",
            "                                                                                                  \n",
            " sequential_4 (Sequential)      (None, None, 64)     2432        ['input_3[0][0]']                \n",
            "                                                                                                  \n",
            " sequential_6 (Sequential)      (None, 6, 64)        2432        ['input_4[0][0]']                \n",
            "                                                                                                  \n",
            " dot_5 (Dot)                    (None, 156, 6)       0           ['sequential_4[0][0]',           \n",
            "                                                                  'sequential_6[0][0]']           \n",
            "                                                                                                  \n",
            " activation_6 (Activation)      (None, 156, 6)       0           ['dot_5[0][0]']                  \n",
            "                                                                                                  \n",
            " sequential_5 (Sequential)      (None, None, 6)      228         ['input_3[0][0]']                \n",
            "                                                                                                  \n",
            " add_2 (Add)                    (None, 156, 6)       0           ['activation_6[0][0]',           \n",
            "                                                                  'sequential_5[0][0]']           \n",
            "                                                                                                  \n",
            " permute_2 (Permute)            (None, 6, 156)       0           ['add_2[0][0]']                  \n",
            "                                                                                                  \n",
            " concatenate_1 (Concatenate)    (None, 6, 220)       0           ['permute_2[0][0]',              \n",
            "                                                                  'sequential_6[0][0]']           \n",
            "                                                                                                  \n",
            " lstm_3 (LSTM)                  (None, 32)           32384       ['concatenate_1[0][0]']          \n",
            "                                                                                                  \n",
            " dropout_8 (Dropout)            (None, 32)           0           ['lstm_3[0][0]']                 \n",
            "                                                                                                  \n",
            " dense_1 (Dense)                (None, 38)           1254        ['dropout_8[0][0]']              \n",
            "                                                                                                  \n",
            " activation_7 (Activation)      (None, 38)           0           ['dense_1[0][0]']                \n",
            "                                                                                                  \n",
            "==================================================================================================\n",
            "Total params: 38,730\n",
            "Trainable params: 38,730\n",
            "Non-trainable params: 0\n",
            "__________________________________________________________________________________________________\n"
          ]
        }
      ]
    },
    {
      "cell_type": "code",
      "source": [
        "# train\n",
        "history = model.fit([inputs_train, queries_train], answers_train,batch_size=16, \n",
        "                    epochs=64, validation_data=([inputs_test, queries_test], answers_test))"
      ],
      "metadata": {
        "colab": {
          "base_uri": "https://localhost:8080/",
          "height": 0
        },
        "id": "_eU2592pDvX-",
        "outputId": "d09c4185-aa36-458f-a2ac-7d04d9d551ae"
      },
      "execution_count": 124,
      "outputs": [
        {
          "output_type": "stream",
          "name": "stdout",
          "text": [
            "Epoch 1/64\n",
            "625/625 [==============================] - 11s 13ms/step - loss: 0.7929 - accuracy: 0.5003 - val_loss: 0.6953 - val_accuracy: 0.4970\n",
            "Epoch 2/64\n",
            "625/625 [==============================] - 8s 13ms/step - loss: 0.6988 - accuracy: 0.4971 - val_loss: 0.6945 - val_accuracy: 0.4970\n",
            "Epoch 3/64\n",
            "625/625 [==============================] - 9s 14ms/step - loss: 0.6972 - accuracy: 0.4959 - val_loss: 0.6960 - val_accuracy: 0.5030\n",
            "Epoch 4/64\n",
            "625/625 [==============================] - 7s 12ms/step - loss: 0.6956 - accuracy: 0.5013 - val_loss: 0.6934 - val_accuracy: 0.4970\n",
            "Epoch 5/64\n",
            "625/625 [==============================] - 9s 15ms/step - loss: 0.6959 - accuracy: 0.5007 - val_loss: 0.6980 - val_accuracy: 0.4970\n",
            "Epoch 6/64\n",
            "625/625 [==============================] - 8s 13ms/step - loss: 0.6959 - accuracy: 0.4944 - val_loss: 0.6935 - val_accuracy: 0.5030\n",
            "Epoch 7/64\n",
            "625/625 [==============================] - 7s 12ms/step - loss: 0.6960 - accuracy: 0.4906 - val_loss: 0.6932 - val_accuracy: 0.5030\n",
            "Epoch 8/64\n",
            "625/625 [==============================] - 8s 13ms/step - loss: 0.6954 - accuracy: 0.5061 - val_loss: 0.6938 - val_accuracy: 0.5030\n",
            "Epoch 9/64\n",
            "625/625 [==============================] - 7s 11ms/step - loss: 0.6957 - accuracy: 0.4959 - val_loss: 0.6931 - val_accuracy: 0.5030\n",
            "Epoch 10/64\n",
            "625/625 [==============================] - 9s 14ms/step - loss: 0.6954 - accuracy: 0.5051 - val_loss: 0.6934 - val_accuracy: 0.4970\n",
            "Epoch 11/64\n",
            "625/625 [==============================] - 8s 13ms/step - loss: 0.6956 - accuracy: 0.5039 - val_loss: 0.6932 - val_accuracy: 0.4970\n",
            "Epoch 12/64\n",
            "625/625 [==============================] - 7s 12ms/step - loss: 0.6957 - accuracy: 0.4991 - val_loss: 0.6941 - val_accuracy: 0.4970\n",
            "Epoch 13/64\n",
            "625/625 [==============================] - 8s 13ms/step - loss: 0.6958 - accuracy: 0.4977 - val_loss: 0.6932 - val_accuracy: 0.5030\n",
            "Epoch 14/64\n",
            "625/625 [==============================] - 7s 12ms/step - loss: 0.6959 - accuracy: 0.4935 - val_loss: 0.6941 - val_accuracy: 0.4970\n",
            "Epoch 15/64\n",
            "625/625 [==============================] - 8s 13ms/step - loss: 0.6958 - accuracy: 0.4945 - val_loss: 0.6943 - val_accuracy: 0.5030\n",
            "Epoch 16/64\n",
            "625/625 [==============================] - 8s 13ms/step - loss: 0.6955 - accuracy: 0.5024 - val_loss: 0.6933 - val_accuracy: 0.5030\n",
            "Epoch 17/64\n",
            "625/625 [==============================] - 8s 13ms/step - loss: 0.6959 - accuracy: 0.4931 - val_loss: 0.6938 - val_accuracy: 0.5030\n",
            "Epoch 18/64\n",
            "625/625 [==============================] - 8s 13ms/step - loss: 0.6958 - accuracy: 0.4915 - val_loss: 0.6933 - val_accuracy: 0.5030\n",
            "Epoch 19/64\n",
            "625/625 [==============================] - 8s 13ms/step - loss: 0.6955 - accuracy: 0.4985 - val_loss: 0.6980 - val_accuracy: 0.4970\n",
            "Epoch 20/64\n",
            "625/625 [==============================] - 8s 12ms/step - loss: 0.6958 - accuracy: 0.4900 - val_loss: 0.6956 - val_accuracy: 0.4970\n",
            "Epoch 21/64\n",
            "625/625 [==============================] - 9s 14ms/step - loss: 0.6953 - accuracy: 0.5038 - val_loss: 0.6933 - val_accuracy: 0.5030\n",
            "Epoch 22/64\n",
            "625/625 [==============================] - 11s 17ms/step - loss: 0.6955 - accuracy: 0.4968 - val_loss: 0.6932 - val_accuracy: 0.4970\n",
            "Epoch 23/64\n",
            "625/625 [==============================] - 12s 19ms/step - loss: 0.6955 - accuracy: 0.4979 - val_loss: 0.6935 - val_accuracy: 0.5030\n",
            "Epoch 24/64\n",
            "625/625 [==============================] - 8s 13ms/step - loss: 0.6960 - accuracy: 0.4929 - val_loss: 0.6932 - val_accuracy: 0.5030\n",
            "Epoch 25/64\n",
            "625/625 [==============================] - 9s 14ms/step - loss: 0.6952 - accuracy: 0.5006 - val_loss: 0.6933 - val_accuracy: 0.5030\n",
            "Epoch 26/64\n",
            "625/625 [==============================] - 11s 18ms/step - loss: 0.6945 - accuracy: 0.5086 - val_loss: 0.6934 - val_accuracy: 0.5030\n",
            "Epoch 27/64\n",
            "625/625 [==============================] - 9s 14ms/step - loss: 0.6950 - accuracy: 0.5041 - val_loss: 0.6938 - val_accuracy: 0.4890\n",
            "Epoch 28/64\n",
            "625/625 [==============================] - 8s 13ms/step - loss: 0.6949 - accuracy: 0.5050 - val_loss: 0.6974 - val_accuracy: 0.5030\n",
            "Epoch 29/64\n",
            "625/625 [==============================] - 8s 13ms/step - loss: 0.6949 - accuracy: 0.5029 - val_loss: 0.6948 - val_accuracy: 0.4930\n",
            "Epoch 30/64\n",
            "625/625 [==============================] - 8s 13ms/step - loss: 0.6948 - accuracy: 0.4977 - val_loss: 0.6975 - val_accuracy: 0.5030\n",
            "Epoch 31/64\n",
            "625/625 [==============================] - 8s 13ms/step - loss: 0.6938 - accuracy: 0.5120 - val_loss: 0.6972 - val_accuracy: 0.4870\n",
            "Epoch 32/64\n",
            "625/625 [==============================] - 8s 12ms/step - loss: 0.6934 - accuracy: 0.5125 - val_loss: 0.6963 - val_accuracy: 0.4770\n",
            "Epoch 33/64\n",
            "625/625 [==============================] - 8s 12ms/step - loss: 0.6891 - accuracy: 0.5337 - val_loss: 0.6843 - val_accuracy: 0.5410\n",
            "Epoch 34/64\n",
            "625/625 [==============================] - 8s 13ms/step - loss: 0.6749 - accuracy: 0.5581 - val_loss: 0.6631 - val_accuracy: 0.5500\n",
            "Epoch 35/64\n",
            "625/625 [==============================] - 7s 11ms/step - loss: 0.6517 - accuracy: 0.6047 - val_loss: 0.6211 - val_accuracy: 0.6630\n",
            "Epoch 36/64\n",
            "625/625 [==============================] - 9s 15ms/step - loss: 0.6308 - accuracy: 0.6483 - val_loss: 0.6043 - val_accuracy: 0.6780\n",
            "Epoch 37/64\n",
            "625/625 [==============================] - 8s 13ms/step - loss: 0.6146 - accuracy: 0.6696 - val_loss: 0.5802 - val_accuracy: 0.7080\n",
            "Epoch 38/64\n",
            "625/625 [==============================] - 7s 11ms/step - loss: 0.5971 - accuracy: 0.6831 - val_loss: 0.5642 - val_accuracy: 0.7210\n",
            "Epoch 39/64\n",
            "625/625 [==============================] - 8s 13ms/step - loss: 0.5654 - accuracy: 0.7151 - val_loss: 0.5204 - val_accuracy: 0.7550\n",
            "Epoch 40/64\n",
            "625/625 [==============================] - 7s 11ms/step - loss: 0.5302 - accuracy: 0.7497 - val_loss: 0.4838 - val_accuracy: 0.7730\n",
            "Epoch 41/64\n",
            "625/625 [==============================] - 8s 14ms/step - loss: 0.5123 - accuracy: 0.7629 - val_loss: 0.4762 - val_accuracy: 0.7740\n",
            "Epoch 42/64\n",
            "625/625 [==============================] - 8s 14ms/step - loss: 0.4851 - accuracy: 0.7848 - val_loss: 0.4708 - val_accuracy: 0.7930\n",
            "Epoch 43/64\n",
            "625/625 [==============================] - 7s 12ms/step - loss: 0.4665 - accuracy: 0.7867 - val_loss: 0.4516 - val_accuracy: 0.7890\n",
            "Epoch 44/64\n",
            "625/625 [==============================] - 8s 14ms/step - loss: 0.4554 - accuracy: 0.7954 - val_loss: 0.4686 - val_accuracy: 0.7750\n",
            "Epoch 45/64\n",
            "625/625 [==============================] - 7s 12ms/step - loss: 0.4425 - accuracy: 0.8044 - val_loss: 0.4407 - val_accuracy: 0.7870\n",
            "Epoch 46/64\n",
            "625/625 [==============================] - 8s 13ms/step - loss: 0.4312 - accuracy: 0.8066 - val_loss: 0.4378 - val_accuracy: 0.7880\n",
            "Epoch 47/64\n",
            "625/625 [==============================] - 9s 14ms/step - loss: 0.4250 - accuracy: 0.8106 - val_loss: 0.4269 - val_accuracy: 0.7960\n",
            "Epoch 48/64\n",
            "625/625 [==============================] - 7s 12ms/step - loss: 0.4138 - accuracy: 0.8183 - val_loss: 0.4199 - val_accuracy: 0.8050\n",
            "Epoch 49/64\n",
            "625/625 [==============================] - 8s 13ms/step - loss: 0.4024 - accuracy: 0.8232 - val_loss: 0.4032 - val_accuracy: 0.8020\n",
            "Epoch 50/64\n",
            "625/625 [==============================] - 8s 12ms/step - loss: 0.3911 - accuracy: 0.8309 - val_loss: 0.3971 - val_accuracy: 0.7960\n",
            "Epoch 51/64\n",
            "625/625 [==============================] - 8s 13ms/step - loss: 0.3840 - accuracy: 0.8316 - val_loss: 0.3901 - val_accuracy: 0.8050\n",
            "Epoch 52/64\n",
            "625/625 [==============================] - 8s 14ms/step - loss: 0.3829 - accuracy: 0.8331 - val_loss: 0.3842 - val_accuracy: 0.8140\n",
            "Epoch 53/64\n",
            "625/625 [==============================] - 7s 12ms/step - loss: 0.3735 - accuracy: 0.8355 - val_loss: 0.3828 - val_accuracy: 0.8090\n",
            "Epoch 54/64\n",
            "625/625 [==============================] - 8s 13ms/step - loss: 0.3655 - accuracy: 0.8397 - val_loss: 0.3767 - val_accuracy: 0.8110\n",
            "Epoch 55/64\n",
            "625/625 [==============================] - 8s 13ms/step - loss: 0.3589 - accuracy: 0.8426 - val_loss: 0.3723 - val_accuracy: 0.8110\n",
            "Epoch 56/64\n",
            "625/625 [==============================] - 8s 12ms/step - loss: 0.3542 - accuracy: 0.8466 - val_loss: 0.3756 - val_accuracy: 0.8140\n",
            "Epoch 57/64\n",
            "625/625 [==============================] - 8s 14ms/step - loss: 0.3534 - accuracy: 0.8452 - val_loss: 0.3681 - val_accuracy: 0.8190\n",
            "Epoch 58/64\n",
            "625/625 [==============================] - 7s 12ms/step - loss: 0.3487 - accuracy: 0.8499 - val_loss: 0.3734 - val_accuracy: 0.8150\n",
            "Epoch 59/64\n",
            "625/625 [==============================] - 8s 13ms/step - loss: 0.3427 - accuracy: 0.8532 - val_loss: 0.3733 - val_accuracy: 0.8240\n",
            "Epoch 60/64\n",
            "625/625 [==============================] - 8s 13ms/step - loss: 0.3386 - accuracy: 0.8541 - val_loss: 0.3568 - val_accuracy: 0.8320\n",
            "Epoch 61/64\n",
            "625/625 [==============================] - 7s 12ms/step - loss: 0.3369 - accuracy: 0.8538 - val_loss: 0.3860 - val_accuracy: 0.8210\n",
            "Epoch 62/64\n",
            "625/625 [==============================] - 8s 13ms/step - loss: 0.3325 - accuracy: 0.8566 - val_loss: 0.3633 - val_accuracy: 0.8210\n",
            "Epoch 63/64\n",
            "625/625 [==============================] - 7s 12ms/step - loss: 0.3315 - accuracy: 0.8562 - val_loss: 0.3749 - val_accuracy: 0.8180\n",
            "Epoch 64/64\n",
            "625/625 [==============================] - 8s 13ms/step - loss: 0.3306 - accuracy: 0.8573 - val_loss: 0.3885 - val_accuracy: 0.8320\n"
          ]
        }
      ]
    },
    {
      "cell_type": "markdown",
      "source": [
        "8. Model evaluation"
      ],
      "metadata": {
        "id": "P68tbsXyEjMp"
      }
    },
    {
      "cell_type": "markdown",
      "source": [
        "Plotting out Training History"
      ],
      "metadata": {
        "id": "M6PiMzwcEyO7"
      }
    },
    {
      "cell_type": "code",
      "source": [
        "import matplotlib.pyplot as plt\n",
        "%matplotlib inline\n",
        "print(history.history.keys())"
      ],
      "metadata": {
        "colab": {
          "base_uri": "https://localhost:8080/",
          "height": 0
        },
        "id": "JtYr26UpE5tF",
        "outputId": "6f30319e-bed7-45f4-ef58-7f413b5a6c4b"
      },
      "execution_count": 125,
      "outputs": [
        {
          "output_type": "stream",
          "name": "stdout",
          "text": [
            "dict_keys(['loss', 'accuracy', 'val_loss', 'val_accuracy'])\n"
          ]
        }
      ]
    },
    {
      "cell_type": "code",
      "source": [
        "# summarize history for accuracy\n",
        "plt.plot(history.history['accuracy'])\n",
        "plt.plot(history.history['val_accuracy'])\n",
        "plt.title('model accuracy')\n",
        "plt.ylabel('accuracy')\n",
        "plt.xlabel('epoch')\n",
        "plt.grid()\n",
        "plt.legend(['train', 'test'], loc='upper left')\n",
        "plt.show()"
      ],
      "metadata": {
        "colab": {
          "base_uri": "https://localhost:8080/",
          "height": 472
        },
        "id": "wdjRCuLHGUf3",
        "outputId": "c4b0dac6-3b74-4f00-b2f2-840c0e972300"
      },
      "execution_count": 126,
      "outputs": [
        {
          "output_type": "display_data",
          "data": {
            "text/plain": [
              "<Figure size 640x480 with 1 Axes>"
            ],
            "image/png": "[encoded data removed]"
          },
          "metadata": {}
        }
      ]
    },
    {
      "cell_type": "code",
      "source": [
        "# summarize history for loss\n",
        "plt.plot(history.history['loss'])\n",
        "plt.plot(history.history['val_loss'])\n",
        "plt.title('model loss')\n",
        "plt.ylabel('loss')\n",
        "plt.xlabel('epoch')\n",
        "plt.grid()\n",
        "plt.legend(['train', 'test'], loc='upper left')\n",
        "plt.show()"
      ],
      "metadata": {
        "colab": {
          "base_uri": "https://localhost:8080/",
          "height": 472
        },
        "id": "z6q_JcUlGWd3",
        "outputId": "71ec755f-1dea-4eb5-e0d2-caf9b411c771"
      },
      "execution_count": 127,
      "outputs": [
        {
          "output_type": "display_data",
          "data": {
            "text/plain": [
              "<Figure size 640x480 with 1 Axes>"
            ],
            "image/png": "[encoded data removed]"
          },
          "metadata": {}
        }
      ]
    },
    {
      "cell_type": "markdown",
      "source": [
        "Evaluating on Given Test Set"
      ],
      "metadata": {
        "id": "bIVzOuDSHKKX"
      }
    },
    {
      "cell_type": "code",
      "source": [
        "filename = 'chatbot_120_epochs.h5'\n",
        "model.save(filename)\n",
        "model.load_weights(filename)\n",
        "pred_results = model.predict(([inputs_test, queries_test]))"
      ],
      "metadata": {
        "colab": {
          "base_uri": "https://localhost:8080/",
          "height": 0
        },
        "id": "c1nLNwusGfFq",
        "outputId": "18d5c13c-e757-47d6-c660-c2128d38d3a6"
      },
      "execution_count": 130,
      "outputs": [
        {
          "output_type": "stream",
          "name": "stdout",
          "text": [
            "32/32 [==============================] - 1s 4ms/step\n"
          ]
        }
      ]
    },
    {
      "cell_type": "code",
      "source": [
        "test_data[0][0]"
      ],
      "metadata": {
        "colab": {
          "base_uri": "https://localhost:8080/",
          "height": 0
        },
        "id": "_V4v-dr9IbXq",
        "outputId": "ff5ec5b1-a4da-4797-9e65-d5428bdf1590"
      },
      "execution_count": 131,
      "outputs": [
        {
          "output_type": "execute_result",
          "data": {
            "text/plain": [
              "['Mary',\n",
              " 'got',\n",
              " 'the',\n",
              " 'milk',\n",
              " 'there',\n",
              " '.',\n",
              " 'John',\n",
              " 'moved',\n",
              " 'to',\n",
              " 'the',\n",
              " 'bedroom',\n",
              " '.']"
            ]
          },
          "metadata": {},
          "execution_count": 131
        }
      ]
    },
    {
      "cell_type": "code",
      "source": [
        "story =' '.join(word for word in test_data[0][0])\n",
        "print(story)"
      ],
      "metadata": {
        "colab": {
          "base_uri": "https://localhost:8080/",
          "height": 0
        },
        "id": "RXPng4CmIpYH",
        "outputId": "7b153b89-42c4-4a90-9715-128d331ca69f"
      },
      "execution_count": 132,
      "outputs": [
        {
          "output_type": "stream",
          "name": "stdout",
          "text": [
            "Mary got the milk there . John moved to the bedroom .\n"
          ]
        }
      ]
    },
    {
      "cell_type": "code",
      "source": [
        "query = ' '.join(word for word in test_data[0][1])\n",
        "print(query)"
      ],
      "metadata": {
        "colab": {
          "base_uri": "https://localhost:8080/",
          "height": 0
        },
        "id": "IFl1thNQIxK5",
        "outputId": "e3f77307-b143-4497-8cd1-e76f4683c30c"
      },
      "execution_count": 134,
      "outputs": [
        {
          "output_type": "stream",
          "name": "stdout",
          "text": [
            "Is John in the kitchen ?\n"
          ]
        }
      ]
    },
    {
      "cell_type": "code",
      "source": [
        "print(\"True Test Answer from Data is:\",test_data[0][2])"
      ],
      "metadata": {
        "colab": {
          "base_uri": "https://localhost:8080/",
          "height": 0
        },
        "id": "1WkZPWmRI3vC",
        "outputId": "4be25fbd-538d-4960-e396-59583ba6771c"
      },
      "execution_count": 135,
      "outputs": [
        {
          "output_type": "stream",
          "name": "stdout",
          "text": [
            "True Test Answer from Data is: no\n"
          ]
        }
      ]
    },
    {
      "cell_type": "code",
      "source": [
        "#Generate prediction from model\n",
        "val_max = np.argmax(pred_results[0])\n",
        "\n",
        "for key, val in tokenizer.word_index.items():\n",
        "    if val == val_max:\n",
        "        k = key\n",
        "\n",
        "print(\"Predicted answer is: \", k)\n",
        "print(\"Probability of certainty was: \", pred_results[0][val_max])"
      ],
      "metadata": {
        "colab": {
          "base_uri": "https://localhost:8080/",
          "height": 0
        },
        "id": "pdGxcKF3I_Hr",
        "outputId": "d930f9db-9cdd-4e18-f7bf-29bc21986401"
      },
      "execution_count": 136,
      "outputs": [
        {
          "output_type": "stream",
          "name": "stdout",
          "text": [
            "Predicted answer is:  no\n",
            "Probability of certainty was:  0.99273777\n"
          ]
        }
      ]
    },
    {
      "cell_type": "markdown",
      "source": [
        "9. Writing our Own Stories and Questions"
      ],
      "metadata": {
        "id": "ynNrQr_GJwXm"
      }
    },
    {
      "cell_type": "code",
      "source": [
        "vocab \n",
        "#words from the existing vocab can only be used"
      ],
      "metadata": {
        "colab": {
          "base_uri": "https://localhost:8080/",
          "height": 0
        },
        "id": "-sSqiryIJk7P",
        "outputId": "0d8cf841-870e-48d1-e055-c2b3da835e4c"
      },
      "execution_count": 137,
      "outputs": [
        {
          "output_type": "execute_result",
          "data": {
            "text/plain": [
              "{'.',\n",
              " '?',\n",
              " 'Daniel',\n",
              " 'Is',\n",
              " 'John',\n",
              " 'Mary',\n",
              " 'Sandra',\n",
              " 'apple',\n",
              " 'back',\n",
              " 'bathroom',\n",
              " 'bedroom',\n",
              " 'discarded',\n",
              " 'down',\n",
              " 'dropped',\n",
              " 'football',\n",
              " 'garden',\n",
              " 'got',\n",
              " 'grabbed',\n",
              " 'hallway',\n",
              " 'in',\n",
              " 'journeyed',\n",
              " 'kitchen',\n",
              " 'left',\n",
              " 'milk',\n",
              " 'moved',\n",
              " 'no',\n",
              " 'office',\n",
              " 'picked',\n",
              " 'put',\n",
              " 'the',\n",
              " 'there',\n",
              " 'to',\n",
              " 'took',\n",
              " 'travelled',\n",
              " 'up',\n",
              " 'went',\n",
              " 'yes'}"
            ]
          },
          "metadata": {},
          "execution_count": 137
        }
      ]
    },
    {
      "cell_type": "code",
      "source": [
        "# Note the whitespace of the periods\n",
        "my_story = \"John left the kitchen . Sandra dropped the football in the garden .\"\n",
        "my_story.split()"
      ],
      "metadata": {
        "colab": {
          "base_uri": "https://localhost:8080/",
          "height": 0
        },
        "id": "ozOv7aXLKlzv",
        "outputId": "6ec49cfa-59f8-4356-caae-b51241aadd9e"
      },
      "execution_count": 138,
      "outputs": [
        {
          "output_type": "execute_result",
          "data": {
            "text/plain": [
              "['John',\n",
              " 'left',\n",
              " 'the',\n",
              " 'kitchen',\n",
              " '.',\n",
              " 'Sandra',\n",
              " 'dropped',\n",
              " 'the',\n",
              " 'football',\n",
              " 'in',\n",
              " 'the',\n",
              " 'garden',\n",
              " '.']"
            ]
          },
          "metadata": {},
          "execution_count": 138
        }
      ]
    },
    {
      "cell_type": "code",
      "source": [
        "my_question = \"Is the football in the garden ?\""
      ],
      "metadata": {
        "id": "iiRqKWrPKv0Q"
      },
      "execution_count": 139,
      "outputs": []
    },
    {
      "cell_type": "code",
      "source": [
        "my_question.split()"
      ],
      "metadata": {
        "colab": {
          "base_uri": "https://localhost:8080/",
          "height": 0
        },
        "id": "EHvyVY0cK0lt",
        "outputId": "bb9d0d12-84ba-49e6-a6f4-14a0532ad2a4"
      },
      "execution_count": 140,
      "outputs": [
        {
          "output_type": "execute_result",
          "data": {
            "text/plain": [
              "['Is', 'the', 'football', 'in', 'the', 'garden', '?']"
            ]
          },
          "metadata": {},
          "execution_count": 140
        }
      ]
    },
    {
      "cell_type": "code",
      "source": [
        "mydata = [(my_story.split(),my_question.split(),'yes')]"
      ],
      "metadata": {
        "id": "Ii659NSKK4qV"
      },
      "execution_count": 141,
      "outputs": []
    },
    {
      "cell_type": "code",
      "source": [
        "my_story,my_ques,my_ans = vectorize_stories(mydata)"
      ],
      "metadata": {
        "id": "eNflL2WJK-XL"
      },
      "execution_count": 142,
      "outputs": []
    },
    {
      "cell_type": "code",
      "source": [
        "pred_results = model.predict(([ my_story, my_ques]))"
      ],
      "metadata": {
        "colab": {
          "base_uri": "https://localhost:8080/",
          "height": 0
        },
        "id": "9xDmfzfhLDYN",
        "outputId": "c6f04528-82eb-4229-f9f2-f9a92c8ccbe6"
      },
      "execution_count": 143,
      "outputs": [
        {
          "output_type": "stream",
          "name": "stdout",
          "text": [
            "1/1 [==============================] - 0s 42ms/step\n"
          ]
        }
      ]
    },
    {
      "cell_type": "code",
      "source": [
        "#Generate prediction from model\n",
        "val_max = np.argmax(pred_results[0])\n",
        "\n",
        "for key, val in tokenizer.word_index.items():\n",
        "    if val == val_max:\n",
        "        k = key\n",
        "\n",
        "print(\"Predicted answer is: \", k)\n",
        "print(\"Probability of certainty was: \", pred_results[0][val_max])"
      ],
      "metadata": {
        "colab": {
          "base_uri": "https://localhost:8080/",
          "height": 0
        },
        "id": "ubjvYhA9LHDW",
        "outputId": "d9349153-16b1-4e07-cf63-353962d579ae"
      },
      "execution_count": 144,
      "outputs": [
        {
          "output_type": "stream",
          "name": "stdout",
          "text": [
            "Predicted answer is:  yes\n",
            "Probability of certainty was:  0.8141419\n"
          ]
        }
      ]
    }
  ]
}
